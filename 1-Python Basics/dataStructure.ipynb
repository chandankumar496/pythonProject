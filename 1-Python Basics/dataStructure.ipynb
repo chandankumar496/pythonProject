{
 "cells": [
  {
   "cell_type": "code",
   "execution_count": 1,
   "id": "a6c445fa",
   "metadata": {},
   "outputs": [
    {
     "name": "stdout",
     "output_type": "stream",
     "text": [
      "['apple', 'grapes', 'cherry', 'orange', 'papaya']\n",
      "['apple', 'g', 'r', 'a', 'p', 'e', 's']\n"
     ]
    }
   ],
   "source": [
    "lst = []\n",
    "##print(type(lst))\n",
    "\n",
    "name = [\"chandu\", \"kumar\", 1, 2, 3,4,5]\n",
    "##print(name)\n",
    "\n",
    "##Accessing list elements\n",
    "fruits = [\"apple\",\"banana\",\"cherry\", \"orange\", \"papaya\"]\n",
    "##fruits[0]\n",
    "#print(fruits[-2:])\n",
    "fruits[1] = \"grapes\"\n",
    "print(fruits)\n",
    "fruits[1:] = \"grapes\"\n",
    "print(fruits)\n",
    "##print(fruits.index(\"apple\"))\n",
    "##print(fruits.insert(2, \"watermelon\"))"
   ]
  },
  {
   "cell_type": "code",
   "execution_count": null,
   "id": "0469f983",
   "metadata": {},
   "outputs": [],
   "source": [
    "## List comprenhension\n",
    "##square = [x**2 for x in range(10)]\n",
    "##Condition\n",
    "##square = [x**2 for x in range(10) if x>5]\n",
    "\n",
    "##Nested List Comprehension\n",
    "lst1 = [1, 2, 3, 4]\n",
    "lst2 = [\"a\",\"b\",\"c\",\"d\"]\n",
    "#pair = [(i, j) for i in lst1 for j in lst2]\n",
    "##print(pair)\n",
    "\n",
    "## List comprehension with function class\n",
    "\n",
    "#words = [\"hello\", \"world\", \"python\", \"list\", \"comprehension\"]\n",
    "#lengths = [len(word) for word in words]\n",
    "#print(lengths)\n",
    "\n",
    "\n"
   ]
  },
  {
   "cell_type": "code",
   "execution_count": null,
   "id": "59b23493",
   "metadata": {},
   "outputs": [],
   "source": [
    "## Tuple\n",
    "empty_tuple = ()\n",
    "##print(empty_tuple)\n",
    "\n",
    "lst = list()\n",
    "##print(type(lst))\n",
    "tpl = tuple()\n",
    "##print(type(tpl))\n",
    "\n",
    "numbers = tuple([1, 2, 3, 4, 5, 6, 6, 6])\n",
    "\n",
    "mixed_type = (1, \"hello chandu\",3.14, True)\n",
    "\n",
    "##print(numbers)\n",
    "##print(numbers[2])\n",
    "## Accessing Tuple elements\n",
    "concat = numbers + mixed_type\n",
    "##print(mixed_type * 3)\n",
    "numbers.count(6)\n",
    " "
   ]
  },
  {
   "cell_type": "code",
   "execution_count": null,
   "id": "e2125330",
   "metadata": {},
   "outputs": [],
   "source": [
    "##Immutable Nature of Types\n",
    "##Tuples are immutable in nature\n",
    "lst = [1, 2, 3, 4, 5]\n",
    "## Packing and Unpacking tuple\n",
    "\n",
    "packed_tuple = 1, \"hello\", 3.14\n",
    "##print(packed_tuple)\n",
    "a,b,c = packed_tuple\n",
    "#3print(a)\n",
    "##print(b)\n",
    "##print(c)\n",
    "\n",
    "### Unpacking with *\n",
    "\n",
    "numbers = (1, 2, 3, 4, 5, 6, 7)\n",
    "x, *y, z = numbers\n",
    "\n",
    "## Nested Tuple\n",
    "lst = [[1, 2, 3, 4], [6, 7, 8, 9], [1, \"hello world\"]]\n",
    "print(lst)\n",
    "lst[0][1:]\n",
    "##\n",
    "nested_tuple = ((1, 2, 3, 4, 5), (\"a\", \"b\", \"c\"),(True, False))\n",
    "print(nested_tuple)\n",
    "\n",
    "for sub_tuple in nested_tuple:\n",
    "    for item in sub_tuple:\n",
    "        print(item, end=\" \")\n",
    "    print()    \n"
   ]
  },
  {
   "cell_type": "code",
   "execution_count": null,
   "id": "56098441",
   "metadata": {},
   "outputs": [],
   "source": [
    "## DICTIONARIES\n",
    "\n",
    "empty_dict = { }\n",
    "##print(type(empty_dict))\n",
    "empty_dict = dict()\n",
    "students = {\"name\":\"Chandan\",\"age\":29,\"grade\":24, \"last name\" : \"Kumar\"}\n",
    "## accessing dictionaries\n",
    "\n",
    "##students['name']\n",
    "\n",
    "##Using get()\n",
    "##print(students.get('name'))\n",
    "print(students.get('last name', \"Not Avialbe\"))\n",
    "students[\"name\"] = \"Aayushi\"\n",
    "print(students.get('name'))"
   ]
  }
 ],
 "metadata": {
  "kernelspec": {
   "display_name": "myenv",
   "language": "python",
   "name": "python3"
  },
  "language_info": {
   "codemirror_mode": {
    "name": "ipython",
    "version": 3
   },
   "file_extension": ".py",
   "mimetype": "text/x-python",
   "name": "python",
   "nbconvert_exporter": "python",
   "pygments_lexer": "ipython3",
   "version": "3.12.0"
  }
 },
 "nbformat": 4,
 "nbformat_minor": 5
}
