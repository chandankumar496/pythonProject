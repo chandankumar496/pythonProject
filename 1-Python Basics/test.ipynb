{
 "cells": [
  {
   "cell_type": "code",
   "execution_count": 1,
   "id": "cb9cc43f",
   "metadata": {},
   "outputs": [
    {
     "data": {
      "text/plain": [
       "2"
      ]
     },
     "execution_count": 1,
     "metadata": {},
     "output_type": "execute_result"
    }
   ],
   "source": [
    "1+1"
   ]
  },
  {
   "cell_type": "code",
   "execution_count": null,
   "id": "74f783c7",
   "metadata": {},
   "outputs": [],
   "source": [
    "## This is my basic python code\n",
    "name=\"chandu\"\n",
    "Name=\"Chandan kumar\"\n",
    "print(name)\n",
    "print(Name)\n",
    "\n",
    "age = 30\n",
    "\n",
    "if age>25:\n",
    "    print(25)\n",
    "\n",
    "print(25);\n",
    "\n",
    "## type conversion\n",
    "\n",
    "age = '25'\n",
    "print(type(int(age)))\n",
    "\n",
    "height = 5.11\n",
    "float(int(height))\n",
    "\n"
   ]
  },
  {
   "cell_type": "code",
   "execution_count": null,
   "id": "6bdc783e",
   "metadata": {},
   "outputs": [],
   "source": [
    "## input for calculator\n",
    "\n",
    "num1 = float(input(\"please enter the 1st value :\"))\n",
    "num2 = float(input(\"please enter the 2nd value :\"))\n",
    "\n",
    "addition = num1 + num2\n",
    "difference = num1 - num2\n",
    "division = num1 / num2\n",
    "subtraction = num1 - num2\n",
    "\n",
    "print(\"addition :\", int(addition))\n",
    "print(\"difference :\", int(difference))\n",
    "print(\"division\", int(division))\n",
    "print(\"subtraction\", int(subtraction))\n",
    "\n"
   ]
  },
  {
   "cell_type": "code",
   "execution_count": null,
   "id": "de68ce3e",
   "metadata": {},
   "outputs": [],
   "source": [
    "num1 = int(input(\"Enter the valu1 :\"))\n",
    "num2 = int(input(\"Enter the 2nd value :\"))\n",
    "\n",
    "modulas = num1%num2;\n",
    "floor_div = num1//num2;\n",
    "exponent = num1**num2\n",
    "\n",
    "print(\"Modulus :\", modulas)\n",
    "print(\"floor division :\", floor_div)\n",
    "print(\"exponent\", exponent)"
   ]
  },
  {
   "cell_type": "code",
   "execution_count": null,
   "id": "c3ed500e",
   "metadata": {},
   "outputs": [],
   "source": [
    "str1 = \"chand\"\n",
    "str2 = \"chand\"\n",
    "\n",
    "if str1==str2:\n",
    "   print(\"--Matched!--\")\n",
    "\n",
    "print(str1==str2)   \n",
    "\n",
    "age = int(input(\"Please enter the age : \"))\n",
    "\n",
    "if age >= 18:\n",
    "   print(\"Adult !\")\n",
    "else:\n",
    "   if age <= 13:\n",
    "      print(\"Minor !\")\n",
    "   else:\n",
    "      print(\"Teen!\")     \n",
    "\n",
    "   "
   ]
  },
  {
   "cell_type": "code",
   "execution_count": null,
   "id": "4a7a80c2",
   "metadata": {},
   "outputs": [],
   "source": [
    "### Leap Year\n",
    "\n",
    "year = int(input(\"Please enter the year : \"))\n",
    "\n",
    "if year%4 == 0:\n",
    "    if year%100 == 0:\n",
    "        if year%400 == 0:\n",
    "            print(\"Leap yeare\")\n",
    "        else:\n",
    "            print(\"Not leap year\") \n",
    "    else:\n",
    "        print(\"Yess not leap year\")\n",
    "else:\n",
    "    print(\"please enter valid yeare\")                   "
   ]
  },
  {
   "cell_type": "code",
   "execution_count": null,
   "id": "f9c69e7c",
   "metadata": {},
   "outputs": [],
   "source": [
    "\n",
    "range(1, 5)\n",
    "\n",
    "for i in range(5, 1, -1):\n",
    "    print(i)"
   ]
  },
  {
   "cell_type": "code",
   "execution_count": null,
   "id": "e237b5bd",
   "metadata": {},
   "outputs": [],
   "source": [
    "str = \"Chandan Kumar\"\n",
    "\n",
    "for i in str:\n",
    "    if i != ' ':\n",
    "     print(i)"
   ]
  },
  {
   "cell_type": "code",
   "execution_count": null,
   "id": "7add331c",
   "metadata": {},
   "outputs": [],
   "source": [
    "## while\n",
    "\n",
    "count = 0\n",
    "\n",
    "while count:\n",
    "    print(count)\n",
    "    count = count + 1"
   ]
  },
  {
   "cell_type": "code",
   "execution_count": null,
   "id": "cb255a1a",
   "metadata": {},
   "outputs": [],
   "source": [
    "## for loop\n",
    "\n",
    "for i in range(1, 10):\n",
    "    if i%5 == 0:\n",
    "        break\n",
    "    print(i)  "
   ]
  }
 ],
 "metadata": {
  "kernelspec": {
   "display_name": "myenv",
   "language": "python",
   "name": "python3"
  },
  "language_info": {
   "codemirror_mode": {
    "name": "ipython",
    "version": 3
   },
   "file_extension": ".py",
   "mimetype": "text/x-python",
   "name": "python",
   "nbconvert_exporter": "python",
   "pygments_lexer": "ipython3",
   "version": "3.12.0"
  }
 },
 "nbformat": 4,
 "nbformat_minor": 5
}
